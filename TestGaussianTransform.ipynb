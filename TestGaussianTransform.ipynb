{
 "cells": [
  {
   "cell_type": "code",
   "execution_count": null,
   "id": "8cdb411a",
   "metadata": {},
   "outputs": [],
   "source": [
    "import sys\n",
    "sys.path.append('env/lib/python3.13/site-packages')"
   ]
  },
  {
   "cell_type": "code",
   "execution_count": null,
   "id": "2c481d2d",
   "metadata": {},
   "outputs": [],
   "source": [
    "import numpy as np\n",
    "import scipy as sp\n",
    "import cvxpy as cp\n",
    "import cvxportfolio as cvx\n",
    "import matplotlib.pyplot as plt"
   ]
  },
  {
   "cell_type": "code",
   "execution_count": null,
   "id": "66a52aae",
   "metadata": {},
   "outputs": [],
   "source": [
    "sample_returns = np.load('sample_returns.npy')[::1]"
   ]
  },
  {
   "cell_type": "code",
   "execution_count": null,
   "id": "664fa8a4",
   "metadata": {},
   "outputs": [],
   "source": [
    "# sample_returns = cvx.YahooFinance('^VIX').data['open'].dropna().values"
   ]
  },
  {
   "cell_type": "code",
   "execution_count": null,
   "id": "1d4c77de",
   "metadata": {},
   "outputs": [],
   "source": [
    "sample_returns = cvx.YahooFinance('AAPL').data['return'].dropna().values"
   ]
  },
  {
   "cell_type": "code",
   "execution_count": null,
   "id": "c79a97b4",
   "metadata": {},
   "outputs": [],
   "source": [
    "# np.sort(sample_returns)"
   ]
  },
  {
   "cell_type": "code",
   "execution_count": null,
   "id": "f2281110",
   "metadata": {},
   "outputs": [],
   "source": [
    "# sample_returns = (np.sin(np.random.uniform(0, 2*np.pi, 10000)))"
   ]
  },
  {
   "cell_type": "code",
   "execution_count": null,
   "id": "dd2073e0",
   "metadata": {},
   "outputs": [],
   "source": [
    "(qnorm, q), _ = sp.stats.probplot(sample_returns, dist=\"norm\", plot=plt)"
   ]
  },
  {
   "cell_type": "code",
   "execution_count": null,
   "id": "eebd6850",
   "metadata": {},
   "outputs": [],
   "source": [
    "plt.plot(qnorm, q, 'o')"
   ]
  },
  {
   "cell_type": "code",
   "execution_count": null,
   "id": "29bae723",
   "metadata": {},
   "outputs": [],
   "source": [
    "nodes = np.linspace(-4,4,8+1)\n",
    "# nodes[0] = -100\n",
    "# nodes[-1] = 100\n",
    "nodes"
   ]
  },
  {
   "cell_type": "code",
   "execution_count": null,
   "id": "d43aedcf",
   "metadata": {},
   "outputs": [],
   "source": [
    "# nodes = np.quantile(qnorm, np.linspace(0,1, 1001))\n",
    "# nodes"
   ]
  },
  {
   "cell_type": "code",
   "execution_count": null,
   "id": "320ddf21",
   "metadata": {},
   "outputs": [],
   "source": [
    "for i in range(len(nodes)-1):\n",
    "    mask = (qnorm<=nodes[i+1])&(qnorm>nodes[i])\n",
    "    plt.plot(qnorm[mask], q[mask], 'o')"
   ]
  },
  {
   "cell_type": "code",
   "execution_count": null,
   "id": "df16ba8e",
   "metadata": {},
   "outputs": [],
   "source": [
    "a_s = cp.Variable(len(nodes)-1)\n",
    "b_s = cp.Variable(len(nodes)-1)"
   ]
  },
  {
   "cell_type": "code",
   "execution_count": null,
   "id": "4bd6d9af",
   "metadata": {},
   "outputs": [],
   "source": [
    "LAMBDA_REG = 1.\n",
    "\n",
    "objective = 0.\n",
    "for i in range(len(nodes)-1):\n",
    "    mask = (qnorm<=nodes[i+1])&(qnorm>nodes[i])\n",
    "    if np.sum(mask) == 0:\n",
    "        continue\n",
    "    my_qnorm = qnorm[mask]\n",
    "    my_q = q[mask]\n",
    "    objective += cp.sum_squares(a_s[i] * my_qnorm + b_s[i] - my_q)\n",
    "\n",
    "objective += LAMBDA_REG * cp.sum_squares(cp.diff(a_s))\n",
    "constraints = [\n",
    "    a_s[i] * nodes[i+1] + b_s[i] == a_s[i+1] * nodes[i+1] + b_s[i+1]\n",
    "    for i in range(len(nodes) - 2)\n",
    "]\n",
    "constraints += [a_s >= 1e-8]\n",
    "\n",
    "cp.Problem(\n",
    "    cp.Minimize(objective),\n",
    "    constraints\n",
    ").solve()"
   ]
  },
  {
   "cell_type": "code",
   "execution_count": null,
   "id": "20a08aa3",
   "metadata": {},
   "outputs": [],
   "source": [
    "plt.plot(a_s.value)"
   ]
  },
  {
   "cell_type": "code",
   "execution_count": null,
   "id": "4a1e3b3c",
   "metadata": {},
   "outputs": [],
   "source": [
    "# (sample_returns==0.).mean()"
   ]
  },
  {
   "cell_type": "code",
   "execution_count": null,
   "id": "85f92301",
   "metadata": {},
   "outputs": [],
   "source": [
    "for i in range(len(nodes)-1):\n",
    "    mask = (qnorm<=nodes[i+1])&(qnorm>nodes[i])\n",
    "    plt.plot(qnorm[mask], qnorm[mask] * a_s.value[i] + b_s.value[i])\n",
    "    plt.plot(qnorm[mask], q[mask], 'o', alpha=.01)"
   ]
  },
  {
   "cell_type": "code",
   "execution_count": null,
   "id": "f1e8d967",
   "metadata": {},
   "outputs": [],
   "source": [
    "my_node_values = [\n",
    "    a_s.value[i] * nodes[i] + b_s.value[i]\n",
    "    for i in range(len(nodes) - 1)\n",
    "]\n",
    "my_node_values.append(a_s.value[-1] * nodes[-1] + b_s.value[-1])\n",
    "my_node_values = np.array(my_node_values)\n",
    "my_node_values"
   ]
  },
  {
   "cell_type": "code",
   "execution_count": null,
   "id": "8b138d9a",
   "metadata": {},
   "outputs": [],
   "source": [
    "transformed = np.interp(sample_returns, my_node_values, nodes )"
   ]
  },
  {
   "cell_type": "code",
   "execution_count": null,
   "id": "29b5082b",
   "metadata": {},
   "outputs": [],
   "source": [
    "_ = sp.stats.probplot(transformed, dist=\"norm\", plot=plt)"
   ]
  },
  {
   "cell_type": "markdown",
   "id": "5b04988f",
   "metadata": {},
   "source": [
    "### For comparison, old approach "
   ]
  },
  {
   "cell_type": "code",
   "execution_count": null,
   "id": "13fe9865",
   "metadata": {},
   "outputs": [],
   "source": [
    "N_QUANTILES = 100\n",
    "_qnorm_extrapolate = 100\n",
    "\n",
    "\n",
    "def compute_normal_quantiles(nobs: int) -> np.array:\n",
    "    \"\"\"Compute normal quantiles for non-duplicate inputs.\"\"\"\n",
    "    p = (0.5 + np.arange(float(nobs))) / float(nobs)\n",
    "    return sp.stats.norm.ppf(p)\n",
    "\n",
    "_quantiles = np.linspace(0., 1., N_QUANTILES + 1)[1:-1]\n",
    "qs = np.quantile(sample_returns, _quantiles)\n",
    "\n",
    "_raw_qnorm = compute_normal_quantiles(len(sample_returns))\n",
    "q_norm_orig = np.quantile(_raw_qnorm, _quantiles)\n",
    "q_norm = np.copy(q_norm_orig)\n",
    "\n",
    "q_norm[0] = min(-_qnorm_extrapolate, q_norm[0])\n",
    "q_norm[-1] = max(_qnorm_extrapolate, q_norm[-1])\n",
    "\n",
    "\n",
    "# extrapolation\n",
    "slope_left = (qs[1] - qs[0]) / (\n",
    "    q_norm_orig[1] - q_norm_orig[0])\n",
    "slope_right = (qs[-1] - qs[-2]) / (\n",
    "    q_norm_orig[-1] - q_norm_orig[-2])\n",
    "\n",
    "qs[0] = qs[1] - slope_left * (q_norm[1] - q_norm[0])\n",
    "qs[-1] = qs[-2] + slope_right * (q_norm[-1] - q_norm[-2])"
   ]
  },
  {
   "cell_type": "code",
   "execution_count": null,
   "id": "27c53c8b",
   "metadata": {},
   "outputs": [],
   "source": [
    "# q_norm"
   ]
  },
  {
   "cell_type": "code",
   "execution_count": null,
   "id": "ff682184",
   "metadata": {},
   "outputs": [],
   "source": [
    "# qs"
   ]
  },
  {
   "cell_type": "code",
   "execution_count": null,
   "id": "2836feb5",
   "metadata": {},
   "outputs": [],
   "source": [
    "transformed2 = np.interp(sample_returns, qs, q_norm )"
   ]
  },
  {
   "cell_type": "code",
   "execution_count": null,
   "id": "c3e4c6e3",
   "metadata": {},
   "outputs": [],
   "source": [
    "_ = sp.stats.probplot(transformed2, dist=\"norm\", plot=plt)"
   ]
  },
  {
   "cell_type": "code",
   "execution_count": null,
   "id": "bce5541b",
   "metadata": {},
   "outputs": [],
   "source": []
  }
 ],
 "metadata": {
  "kernelspec": {
   "display_name": "Python 3 (ipykernel)",
   "language": "python",
   "name": "python3"
  },
  "language_info": {
   "codemirror_mode": {
    "name": "ipython",
    "version": 3
   },
   "file_extension": ".py",
   "mimetype": "text/x-python",
   "name": "python",
   "nbconvert_exporter": "python",
   "pygments_lexer": "ipython3",
   "version": "3.13.3"
  }
 },
 "nbformat": 4,
 "nbformat_minor": 5
}
